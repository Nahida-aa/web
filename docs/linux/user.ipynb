{
 "cells": [
  {
   "cell_type": "markdown",
   "metadata": {},
   "source": [
    "```sh\n",
    "# 给 root 用户设置密码\n",
    "passwd root\n",
    "# 创建用户 aa\n",
    "sudo adduser aa\n",
    "# 设置密码\n",
    "sudo passwd aa\n",
    "# 将新用户添加到 sudo 组（如果需要执行 sudo 命令）\n",
    "sudo usermod -aG sudo aa\n",
    "# 切换到新用户\n",
    "su - aa\n",
    "```"
   ]
  },
  {
   "cell_type": "code",
   "execution_count": null,
   "metadata": {},
   "outputs": [],
   "source": []
  }
 ],
 "metadata": {
  "language_info": {
   "name": "python"
  }
 },
 "nbformat": 4,
 "nbformat_minor": 2
}
