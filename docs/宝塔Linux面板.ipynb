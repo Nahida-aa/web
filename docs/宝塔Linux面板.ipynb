{
 "cells": [
  {
   "cell_type": "markdown",
   "metadata": {},
   "source": [
    "# 宝塔Linux面板\n",
    "\n",
    "安全组入: 8888\n",
    "```shell\n",
    "# 检查宝塔面板服务状态\n",
    "service bt status\n",
    "# 启动宝塔面板服务\n",
    "service bt start\n",
    "# 检查端口监听\n",
    "netstat -tuln | grep 8888\n",
    "```"
   ]
  },
  {
   "cell_type": "code",
   "execution_count": null,
   "metadata": {},
   "outputs": [],
   "source": []
  }
 ],
 "metadata": {
  "language_info": {
   "name": "python"
  }
 },
 "nbformat": 4,
 "nbformat_minor": 2
}
